{
 "cells": [
  {
   "cell_type": "code",
   "execution_count": 1,
   "id": "c966e3f3-64de-4b84-8c29-d495c9e833b4",
   "metadata": {},
   "outputs": [],
   "source": [
    "data = [3, 3.14, \"\\\"3.14\\\"\"]\n",
    "\n",
    "with open('information.txt', 'wt') as file:\n",
    "    for item in data:\n",
    "        file.write(f\"{item}\\n\")"
   ]
  },
  {
   "cell_type": "code",
   "execution_count": 2,
   "id": "a66453aa-ff3e-4128-b088-94f4c5fcfc64",
   "metadata": {},
   "outputs": [
    {
     "name": "stdout",
     "output_type": "stream",
     "text": [
      "3\n",
      "3.14\n",
      "\"3.14\"\n"
     ]
    }
   ],
   "source": [
    "with open('information.txt', 'rt') as file:\n",
    "    loaded_data = [line.strip() for line in file]\n",
    "\n",
    "for item in loaded_data:\n",
    "    print(item)"
   ]
  },
  {
   "cell_type": "code",
   "execution_count": 3,
   "id": "2d5df6fd-4aff-4e77-81bf-e3adf992c7df",
   "metadata": {},
   "outputs": [],
   "source": [
    "import pickle\n",
    "with open('information.dat', 'wb') as file:\n",
    "    for item in data:\n",
    "        pickle.dump(item,file)"
   ]
  },
  {
   "cell_type": "code",
   "execution_count": 4,
   "id": "db1be7f0-4944-44c7-80d2-041027c62830",
   "metadata": {},
   "outputs": [
    {
     "name": "stdout",
     "output_type": "stream",
     "text": [
      "3\n",
      "3.14\n",
      "\"3.14\"\n"
     ]
    }
   ],
   "source": [
    "with open('information.dat','rb') as file:\n",
    "    while True:\n",
    "        try:\n",
    "            print(pickle.load(file))\n",
    "        except:\n",
    "            break\n",
    "file.close()"
   ]
  }
 ],
 "metadata": {
  "kernelspec": {
   "display_name": "Python 3 (ipykernel)",
   "language": "python",
   "name": "python3"
  },
  "language_info": {
   "codemirror_mode": {
    "name": "ipython",
    "version": 3
   },
   "file_extension": ".py",
   "mimetype": "text/x-python",
   "name": "python",
   "nbconvert_exporter": "python",
   "pygments_lexer": "ipython3",
   "version": "3.11.7"
  }
 },
 "nbformat": 4,
 "nbformat_minor": 5
}
