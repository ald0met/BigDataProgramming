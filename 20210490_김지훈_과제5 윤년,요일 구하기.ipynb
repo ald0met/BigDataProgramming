{
 "cells": [
  {
   "cell_type": "code",
   "execution_count": null,
   "id": "780e24ab-1d4e-4bc4-97cc-14d13684b784",
   "metadata": {},
   "outputs": [],
   "source": [
    "def input_date():\n",
    "    year=int(input(\"__년도를 입력하시오:\"))\n",
    "    month=int(input(\"__월을 입력하시오:\"))\n",
    "    day=int(input(\"__일을 입력하시오:\"))\n",
    "    return year,month,day\n",
    "    \n",
    "def is_leap(year):\n",
    "    if year%4==0 and year%100!=0 or year%400==0:\n",
    "        return True\n",
    "    else:\n",
    "        return False\n",
    "\n",
    "def get_day_name(year,month,day):\n",
    "    day_name=[\"월요일\",\"화요일\",\"수요일\",\"목요일\",\"금요일\",\"토요일\",\"일요일\"]\n",
    "    month_date={1:31,2:28,3:31,4:30,5:31,6:30,7:31,8:31,9:30,10:31,11:30,12:31}\n",
    "    if is_leap(year)==True:\n",
    "        month_date[2]==29\n",
    "    else:\n",
    "        if (month,day)==(2,29):\n",
    "            return False\n",
    "    count=365*(year-1)+sum(1 for i in range(1,year) if is_leap(i)==True)\n",
    "    count+=sum(month_date[i] for i in range(1,month))\n",
    "    count+=day\n",
    "    return day_name[count%7]\n",
    "\n",
    "if __name__==\"__main__\":\n",
    "\n",
    "    year,month,day=input_date()\n",
    "    day_name=get_day_name(year,month,day)\n",
    "    if day_name==False:\n",
    "        print(\"입력하신 날짜는 존재하지 않습니다.\")\n",
    "    else:\n",
    "        print(day_name)\n",
    "        if is_leap(year)==True:\n",
    "            print(\"입력하신 %s은 윤년입니다.\"%year)"
   ]
  }
 ],
 "metadata": {
  "kernelspec": {
   "display_name": "Python 3 (ipykernel)",
   "language": "python",
   "name": "python3"
  },
  "language_info": {
   "codemirror_mode": {
    "name": "ipython",
    "version": 3
   },
   "file_extension": ".py",
   "mimetype": "text/x-python",
   "name": "python",
   "nbconvert_exporter": "python",
   "pygments_lexer": "ipython3",
   "version": "3.11.7"
  }
 },
 "nbformat": 4,
 "nbformat_minor": 5
}
