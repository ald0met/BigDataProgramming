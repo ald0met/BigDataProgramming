{
 "cells": [
  {
   "cell_type": "code",
   "execution_count": 1,
   "id": "67817e17-1fc4-415f-8836-114c82aeff2e",
   "metadata": {},
   "outputs": [
    {
     "name": "stdout",
     "output_type": "stream",
     "text": [
      "park sunje 남 890901-*******\n",
      "kim sunhee 남 990103-*******\n"
     ]
    }
   ],
   "source": [
    "data = '''\n",
    "park sunje 890901-1074422\n",
    "kim sunhee 990103-2079912\n",
    "'''\n",
    "\n",
    "for line in data.strip().split('\\n'):\n",
    "    parts=line.split()\n",
    "    name=parts[0]+\" \"+parts[1]\n",
    "    birth_info=parts[2].split(\"-\")[0]+\"-*******\"\n",
    "    if parts[2].split(\"-\")[1][0]==1 or 3:\n",
    "        gender=\"남\"\n",
    "    elif parts[2].split(\"-\")[1][0]==2 or 4:\n",
    "        gender=\"여\"\n",
    "    print(name,gender,birth_info)"
   ]
  },
  {
   "cell_type": "code",
   "execution_count": 2,
   "id": "aa7b6be4-9f78-4c70-bc9a-cfc4e609ab27",
   "metadata": {},
   "outputs": [
    {
     "name": "stdout",
     "output_type": "stream",
     "text": [
      "Overwriting Testdata.txt\n"
     ]
    }
   ],
   "source": [
    "%%writefile Testdata.txt\n",
    "홍길동 560922-1089123 02-705-8491\n",
    "홍길순 560922-2089123 042-7052-8491\n",
    "김바한솔 911212-1089123 042-705-8491\n",
    "김연찬 920922-1089123 031-7054-8491"
   ]
  },
  {
   "cell_type": "code",
   "execution_count": 4,
   "id": "f15d8d26-3457-48de-a70a-2b7e4aa9861f",
   "metadata": {},
   "outputs": [
    {
     "name": "stdout",
     "output_type": "stream",
     "text": [
      "홍길동 남 560922-******* 02-705-8491\n",
      "홍길순 여 560922-******* 042-7052-8491\n",
      "김바한솔 남 911212-******* 042-705-8491\n",
      "김연찬 남 920922-******* 031-7054-8491\n"
     ]
    }
   ],
   "source": [
    "def process_data(file_path):\n",
    "    result = []\n",
    "\n",
    "    with open(file_path, 'r', encoding='utf-8') as file:\n",
    "        lines = file.readlines()\n",
    "\n",
    "    for line in lines:\n",
    "        parts = line.strip().split()\n",
    "        name = parts[0]\n",
    "        birth_info = parts[1]\n",
    "        phone_number = parts[2]\n",
    "        gender_digit = birth_info[7]\n",
    "        if gender_digit in ['1', '3'] :\n",
    "            gender = '남'\n",
    "        elif gender_digit in ['2','4'] :\n",
    "            gender = '여'\n",
    "        \n",
    "        # 주민등록번호 가리기\n",
    "        masked_id = birth_info[:7] + '*******'\n",
    "        result.append(f\"{name} {gender} {masked_id} {phone_number}\")\n",
    "\n",
    "    return result\n",
    "\n",
    "processed_data = process_data('Testdata.txt')\n",
    "for entry in processed_data:\n",
    "    print(entry)"
   ]
  }
 ],
 "metadata": {
  "kernelspec": {
   "display_name": "Python 3 (ipykernel)",
   "language": "python",
   "name": "python3"
  },
  "language_info": {
   "codemirror_mode": {
    "name": "ipython",
    "version": 3
   },
   "file_extension": ".py",
   "mimetype": "text/x-python",
   "name": "python",
   "nbconvert_exporter": "python",
   "pygments_lexer": "ipython3",
   "version": "3.11.7"
  }
 },
 "nbformat": 4,
 "nbformat_minor": 5
}
