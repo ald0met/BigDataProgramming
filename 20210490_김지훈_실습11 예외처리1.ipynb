{
 "cells": [
  {
   "cell_type": "code",
   "execution_count": 3,
   "id": "40a33c5f-1fe5-4fb3-b6c2-5345248268cf",
   "metadata": {},
   "outputs": [
    {
     "name": "stdin",
     "output_type": "stream",
     "text": [
      "점수를 입력하시오:  99\n"
     ]
    },
    {
     "name": "stdout",
     "output_type": "stream",
     "text": [
      "점수는 99입니다.\n"
     ]
    }
   ],
   "source": [
    "class ScoreException(Exception):\n",
    "    def __init__(self,msg):\n",
    "        self._message1=msg\n",
    "\n",
    "def input_score():\n",
    "    score=int(input(\"점수를 입력하시오: \"))\n",
    "\n",
    "    if score>100 or score <0:\n",
    "        raise ScoreException(\"점수는 0점에서 100점 사이의 값이어야 합니다.\")\n",
    "    else:\n",
    "        return score\n",
    "\n",
    "if __name__==\"__main__\":\n",
    "    try:\n",
    "        score=input_score()\n",
    "    except ScoreException as e:\n",
    "        print(e.args[0])\n",
    "    else:\n",
    "        print(\"점수는 %d입니다.\" %score)"
   ]
  }
 ],
 "metadata": {
  "kernelspec": {
   "display_name": "Python 3 (ipykernel)",
   "language": "python",
   "name": "python3"
  },
  "language_info": {
   "codemirror_mode": {
    "name": "ipython",
    "version": 3
   },
   "file_extension": ".py",
   "mimetype": "text/x-python",
   "name": "python",
   "nbconvert_exporter": "python",
   "pygments_lexer": "ipython3",
   "version": "3.11.7"
  }
 },
 "nbformat": 4,
 "nbformat_minor": 5
}
