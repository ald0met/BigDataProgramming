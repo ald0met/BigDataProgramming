{
 "cells": [
  {
   "cell_type": "code",
   "execution_count": 4,
   "id": "e6cbb589-06b3-4efe-97ac-56d6f6509004",
   "metadata": {},
   "outputs": [
    {
     "name": "stdout",
     "output_type": "stream",
     "text": [
      "Overwriting list_index.py\n"
     ]
    }
   ],
   "source": [
    "%%writefile list_index.py\n",
    "num = list(range(11))\n",
    "\n",
    "while True:\n",
    "    try:\n",
    "        index = int(input(\"리스트의 인덱스를 입력하세요 (0-10): \"))\n",
    "        print(num[index])\n",
    "    \n",
    "    except IndexError:\n",
    "        print(\"-1\")\n",
    "    \n",
    "    except KeyboardInterrupt:\n",
    "        print(\"\\n프로그램을 종료합니다.\")\n",
    "        break\n",
    "\n",
    "    except ValueError:\n",
    "        print(\"\\n프로그램을 종료합니다.\")\n",
    "        break"
   ]
  },
  {
   "cell_type": "code",
   "execution_count": 3,
   "id": "4e693dcd-a5d5-4faa-ab41-2db0c678f0e3",
   "metadata": {},
   "outputs": [
    {
     "name": "stdin",
     "output_type": "stream",
     "text": [
      "리스트의 인덱스를 입력하세요 (0-10):  \n"
     ]
    },
    {
     "name": "stdout",
     "output_type": "stream",
     "text": [
      "\n",
      "프로그램을 종료합니다.\n"
     ]
    }
   ],
   "source": [
    "%run list_index.py"
   ]
  }
 ],
 "metadata": {
  "kernelspec": {
   "display_name": "Python 3 (ipykernel)",
   "language": "python",
   "name": "python3"
  },
  "language_info": {
   "codemirror_mode": {
    "name": "ipython",
    "version": 3
   },
   "file_extension": ".py",
   "mimetype": "text/x-python",
   "name": "python",
   "nbconvert_exporter": "python",
   "pygments_lexer": "ipython3",
   "version": "3.11.7"
  }
 },
 "nbformat": 4,
 "nbformat_minor": 5
}
