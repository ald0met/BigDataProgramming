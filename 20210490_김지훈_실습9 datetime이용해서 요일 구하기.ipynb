{
 "cells": [
  {
   "cell_type": "code",
   "execution_count": 2,
   "id": "cc07800f-8556-4a1c-a194-9d9590cc8388",
   "metadata": {},
   "outputs": [
    {
     "name": "stdout",
     "output_type": "stream",
     "text": [
      "Overwriting W_2.py\n"
     ]
    }
   ],
   "source": [
    "%%writefile W_2.py\n",
    "import sys\n",
    "from datetime import datetime\n",
    "\n",
    "if __name__==\"__main__\":\n",
    "    year = int(sys.argv[1])\n",
    "    month = int(sys.argv[2])\n",
    "    day = int(sys.argv[3])\n",
    "\n",
    "    date = datetime(year, month, day)\n",
    "\n",
    "    weekday_kr = {\n",
    "        0: '월요일',\n",
    "        1: '화요일',\n",
    "        2: '수요일',\n",
    "        3: '목요일',\n",
    "        4: '금요일',\n",
    "        5: '토요일',\n",
    "        6: '일요일'\n",
    "    }\n",
    "\n",
    "print(weekday_kr[date.weekday()])"
   ]
  },
  {
   "cell_type": "code",
   "execution_count": 3,
   "id": "0bbf3556-a6ac-4e42-9ed1-57dd79c8bf02",
   "metadata": {},
   "outputs": [
    {
     "name": "stdout",
     "output_type": "stream",
     "text": [
      "화요일\n"
     ]
    }
   ],
   "source": [
    "%run W_2.py 2019 10 1"
   ]
  },
  {
   "cell_type": "code",
   "execution_count": 4,
   "id": "00bf1efe-3d57-4146-ba89-cd94ac0bee0b",
   "metadata": {},
   "outputs": [
    {
     "name": "stdout",
     "output_type": "stream",
     "text": [
      "월요일\n"
     ]
    }
   ],
   "source": [
    "%run W_2.py 2019 10 14"
   ]
  }
 ],
 "metadata": {
  "kernelspec": {
   "display_name": "Python 3 (ipykernel)",
   "language": "python",
   "name": "python3"
  },
  "language_info": {
   "codemirror_mode": {
    "name": "ipython",
    "version": 3
   },
   "file_extension": ".py",
   "mimetype": "text/x-python",
   "name": "python",
   "nbconvert_exporter": "python",
   "pygments_lexer": "ipython3",
   "version": "3.11.7"
  }
 },
 "nbformat": 4,
 "nbformat_minor": 5
}
