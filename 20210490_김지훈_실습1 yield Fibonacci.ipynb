{
 "cells": [
  {
   "cell_type": "code",
   "execution_count": 1,
   "id": "a5ca7a7c-a23c-4b05-9909-0e38025677da",
   "metadata": {},
   "outputs": [
    {
     "name": "stdout",
     "output_type": "stream",
     "text": [
      "Overwriting Fibonacci1.py\n"
     ]
    }
   ],
   "source": [
    "%%writefile Fibonacci1.py\n",
    "def Fibo_func(n):\n",
    "    a,b=0,1\n",
    "    i=0\n",
    "    while i<=n:\n",
    "        i+=1\n",
    "        yield a\n",
    "        a,b=b,a+b"
   ]
  },
  {
   "cell_type": "code",
   "execution_count": 2,
   "id": "a5c33adc-c683-43fa-b5b6-c1e7d57727cf",
   "metadata": {},
   "outputs": [],
   "source": [
    "%run Fibonacci1.py"
   ]
  },
  {
   "cell_type": "code",
   "execution_count": 3,
   "id": "c2066272-df42-44f9-9669-2907e92402d1",
   "metadata": {},
   "outputs": [
    {
     "name": "stdout",
     "output_type": "stream",
     "text": [
      "0\n",
      "1\n",
      "1\n",
      "2\n",
      "3\n",
      "5\n",
      "8\n",
      "13\n",
      "21\n",
      "34\n",
      "55\n"
     ]
    }
   ],
   "source": [
    "import Fibonacci1\n",
    "fib = Fibonacci1.Fibo_func(10)\n",
    "for i in fib:\n",
    "    print(i)"
   ]
  }
 ],
 "metadata": {
  "kernelspec": {
   "display_name": "Python 3 (ipykernel)",
   "language": "python",
   "name": "python3"
  },
  "language_info": {
   "codemirror_mode": {
    "name": "ipython",
    "version": 3
   },
   "file_extension": ".py",
   "mimetype": "text/x-python",
   "name": "python",
   "nbconvert_exporter": "python",
   "pygments_lexer": "ipython3",
   "version": "3.11.7"
  }
 },
 "nbformat": 4,
 "nbformat_minor": 5
}
