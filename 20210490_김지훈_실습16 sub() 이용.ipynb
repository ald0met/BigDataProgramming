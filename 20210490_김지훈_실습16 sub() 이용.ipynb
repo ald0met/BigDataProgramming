{
 "cells": [
  {
   "cell_type": "code",
   "execution_count": 2,
   "id": "39e1b84a-174e-44bb-be4d-a6261d0c3f4e",
   "metadata": {},
   "outputs": [
    {
     "name": "stdout",
     "output_type": "stream",
     "text": [
      "Please, square the following numbers, 9 49 121 169 289 361\n"
     ]
    }
   ],
   "source": [
    "import re\n",
    "input = \"Please square the following numbers, 3 7 11 13 17 19\"\n",
    "numbers = re.sub(r'[^0-9 ]', '', input).strip().split()\n",
    "squared_numbers = [str(int(num) ** 2) for num in numbers]\n",
    "result = f\"Please, square the following numbers, {' '.join(squared_numbers)}\"\n",
    "print(result)"
   ]
  }
 ],
 "metadata": {
  "kernelspec": {
   "display_name": "Python 3 (ipykernel)",
   "language": "python",
   "name": "python3"
  },
  "language_info": {
   "codemirror_mode": {
    "name": "ipython",
    "version": 3
   },
   "file_extension": ".py",
   "mimetype": "text/x-python",
   "name": "python",
   "nbconvert_exporter": "python",
   "pygments_lexer": "ipython3",
   "version": "3.11.7"
  }
 },
 "nbformat": 4,
 "nbformat_minor": 5
}
