{
 "cells": [
  {
   "cell_type": "code",
   "execution_count": 1,
   "id": "cb3916ae-7377-484e-88cb-544ad600bc2c",
   "metadata": {},
   "outputs": [],
   "source": [
    "class FourCal:\n",
    "    def __init__(self,num1,num2):\n",
    "        self.result=0\n",
    "        self.num1=num1\n",
    "        self.num2=num2\n",
    "    def sum(self):\n",
    "        self.result=self.num1+self.num2\n",
    "        return self.result\n",
    "    def sub(self):\n",
    "        self.result=self.num1-self.num2\n",
    "        return self.result\n",
    "    def mul(self):\n",
    "        self.result=self.num1*self.num2\n",
    "        return self.result\n",
    "    def div(self):\n",
    "        self.result=self.num1/self.num2\n",
    "        return self.result"
   ]
  }
 ],
 "metadata": {
  "kernelspec": {
   "display_name": "Python 3 (ipykernel)",
   "language": "python",
   "name": "python3"
  },
  "language_info": {
   "codemirror_mode": {
    "name": "ipython",
    "version": 3
   },
   "file_extension": ".py",
   "mimetype": "text/x-python",
   "name": "python",
   "nbconvert_exporter": "python",
   "pygments_lexer": "ipython3",
   "version": "3.11.7"
  }
 },
 "nbformat": 4,
 "nbformat_minor": 5
}
