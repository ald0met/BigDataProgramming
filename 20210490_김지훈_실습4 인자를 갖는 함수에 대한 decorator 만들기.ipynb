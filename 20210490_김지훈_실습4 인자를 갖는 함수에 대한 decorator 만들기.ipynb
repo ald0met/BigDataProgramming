{
 "cells": [
  {
   "cell_type": "code",
   "execution_count": 1,
   "id": "059f9066-d272-4f94-886b-0aea63511290",
   "metadata": {},
   "outputs": [
    {
     "name": "stdout",
     "output_type": "stream",
     "text": [
      "Initializing Verbose.\n",
      "Program start\n",
      "\n",
      "Begin my_function\n",
      "hello, Mickey!\n",
      "End my_function\n",
      "\n",
      "Begin my_function\n",
      "hello, Minnie!\n",
      "End my_function\n",
      "\n",
      "Begin my_function\n",
      "hello, Donald!\n",
      "End my_function\n"
     ]
    }
   ],
   "source": [
    "class verbose:\n",
    "    def __init__(self,f):\n",
    "        print(\"Initializing Verbose.\")\n",
    "        self.func=f\n",
    "\n",
    "    def __call__(self,x):\n",
    "        print(\"\\nBegin\",self.func.__name__)\n",
    "        self.func(x)\n",
    "        print(\"End\",self.func.__name__)\n",
    "\n",
    "@verbose\n",
    "def my_function(x):\n",
    "    print(\"hello, %s!\"%x)\n",
    "\n",
    "print(\"Program start\")\n",
    "my_function(\"Mickey\")\n",
    "my_function(\"Minnie\")\n",
    "my_function(\"Donald\")"
   ]
  },
  {
   "cell_type": "code",
   "execution_count": 17,
   "id": "fcd015df-8cc6-46d5-85a1-37e5c855defd",
   "metadata": {},
   "outputs": [],
   "source": [
    "def checkTime(func):\n",
    "    import time\n",
    "    def newFunc(*args,**kwargs):\n",
    "        start=time.time()\n",
    "        func(*args,**kwargs)\n",
    "        end=time.time()\n",
    "        print(\"\\n실행시간은:\",end-start)\n",
    "    return newFunc\n",
    "\n",
    "@checkTime\n",
    "def aFunc():\n",
    "    for i in range(1,101):\n",
    "        print(i,end=\" \")\n",
    "\n",
    "@checkTime\n",
    "def bFunc(a,b):\n",
    "    for i in range(a,b+1):\n",
    "        print(i,end=\" \")"
   ]
  },
  {
   "cell_type": "code",
   "execution_count": 27,
   "id": "e2051fba-ef36-4120-88df-1b947e30dd2f",
   "metadata": {},
   "outputs": [
    {
     "name": "stdout",
     "output_type": "stream",
     "text": [
      "1 2 3 4 5 6 7 8 9 10 11 12 13 14 15 16 17 18 19 20 21 22 23 24 25 26 27 28 29 30 31 32 33 34 35 36 37 38 39 40 41 42 43 44 45 46 47 48 49 50 51 52 53 54 55 56 57 58 59 60 61 62 63 64 65 66 67 68 69 70 71 72 73 74 75 76 77 78 79 80 81 82 83 84 85 86 87 88 89 90 91 92 93 94 95 96 97 98 99 100 \n",
      "실행시간은: 0.0002770423889160156\n",
      "--------------------\n",
      "101 102 103 104 105 106 107 108 109 110 111 112 113 114 115 116 117 118 119 120 121 122 123 124 125 126 127 128 129 130 131 132 133 134 135 136 137 138 139 140 141 142 143 144 145 146 147 148 149 150 151 152 153 154 155 156 157 158 159 160 161 162 163 164 165 166 167 168 169 170 171 172 173 174 175 176 177 178 179 180 181 182 183 184 185 186 187 188 189 190 191 192 193 194 195 196 197 198 199 200 201 202 \n",
      "실행시간은: 0.00023293495178222656\n"
     ]
    }
   ],
   "source": [
    "aFunc()\n",
    "print(\"--------------------\")\n",
    "bFunc(101,202)"
   ]
  },
  {
   "cell_type": "code",
   "execution_count": null,
   "id": "10a6c67b-c3a5-48bb-a8d5-85934c7884b1",
   "metadata": {},
   "outputs": [],
   "source": [
    "class checkTime:\n",
    "    import time\n",
    "    def __init__(self,f):\n",
    "        self.f=f\n",
    "        "
   ]
  }
 ],
 "metadata": {
  "kernelspec": {
   "display_name": "Python 3 (ipykernel)",
   "language": "python",
   "name": "python3"
  },
  "language_info": {
   "codemirror_mode": {
    "name": "ipython",
    "version": 3
   },
   "file_extension": ".py",
   "mimetype": "text/x-python",
   "name": "python",
   "nbconvert_exporter": "python",
   "pygments_lexer": "ipython3",
   "version": "3.11.7"
  }
 },
 "nbformat": 4,
 "nbformat_minor": 5
}
