{
 "cells": [
  {
   "cell_type": "code",
   "execution_count": 1,
   "id": "54a9c189-43b4-4f64-b1ad-c0b63e62b563",
   "metadata": {},
   "outputs": [
    {
     "name": "stdout",
     "output_type": "stream",
     "text": [
      "/Users/jh/Desktop/pythonworkplace/JH\n"
     ]
    }
   ],
   "source": [
    "%cd JH"
   ]
  },
  {
   "cell_type": "code",
   "execution_count": 2,
   "id": "8a0154f9-e80c-462b-83de-6886b1e9a4a7",
   "metadata": {},
   "outputs": [
    {
     "name": "stdout",
     "output_type": "stream",
     "text": [
      "Overwriting chan.py\n"
     ]
    }
   ],
   "source": [
    "%%writefile chan.py\n",
    "\n",
    "def count(x):\n",
    "    d={}\n",
    "    for i in range(len(x)): \n",
    "        d[x[i].lower()]=x.count(x[i])\n",
    "    print(*['(%s:%d)'%(x,y) for x,y in d.items()])\n",
    "    return 0\n",
    "\n",
    "def trans(x):\n",
    "    s=str()\n",
    "    for i in x:\n",
    "        if i.isupper() == True:\n",
    "            s+=i.lower()\n",
    "        else:\n",
    "            s+=i.upper()\n",
    "    print(s)\n",
    "\n",
    "if __name__==\"__main__\":\n",
    "    while 1:\n",
    "        x=input(\"Input:\")\n",
    "        if x==\"STOP\":\n",
    "            print(\"Bye\")\n",
    "            break\n",
    "        else:\n",
    "            count(x)\n",
    "            trans(x)"
   ]
  },
  {
   "cell_type": "code",
   "execution_count": 3,
   "id": "7f83e646-cef6-4648-ac94-86902b12d648",
   "metadata": {},
   "outputs": [
    {
     "name": "stdin",
     "output_type": "stream",
     "text": [
      "Input: Sogang\n"
     ]
    },
    {
     "name": "stdout",
     "output_type": "stream",
     "text": [
      "(s:1) (o:1) (g:2) (a:1) (n:1)\n",
      "sOGANG\n"
     ]
    },
    {
     "name": "stdin",
     "output_type": "stream",
     "text": [
      "Input: SOGANG\n"
     ]
    },
    {
     "name": "stdout",
     "output_type": "stream",
     "text": [
      "(s:1) (o:1) (g:2) (a:1) (n:1)\n",
      "sogang\n"
     ]
    },
    {
     "name": "stdin",
     "output_type": "stream",
     "text": [
      "Input: Univ\n"
     ]
    },
    {
     "name": "stdout",
     "output_type": "stream",
     "text": [
      "(u:1) (n:1) (i:1) (v:1)\n",
      "uNIV\n"
     ]
    },
    {
     "name": "stdin",
     "output_type": "stream",
     "text": [
      "Input: Tel\n"
     ]
    },
    {
     "name": "stdout",
     "output_type": "stream",
     "text": [
      "(t:1) (e:1) (l:1)\n",
      "tEL\n"
     ]
    },
    {
     "name": "stdin",
     "output_type": "stream",
     "text": [
      "Input: STOP\n"
     ]
    },
    {
     "name": "stdout",
     "output_type": "stream",
     "text": [
      "Bye\n"
     ]
    }
   ],
   "source": [
    "%run chan.py"
   ]
  }
 ],
 "metadata": {
  "kernelspec": {
   "display_name": "Python 3 (ipykernel)",
   "language": "python",
   "name": "python3"
  },
  "language_info": {
   "codemirror_mode": {
    "name": "ipython",
    "version": 3
   },
   "file_extension": ".py",
   "mimetype": "text/x-python",
   "name": "python",
   "nbconvert_exporter": "python",
   "pygments_lexer": "ipython3",
   "version": "3.11.7"
  }
 },
 "nbformat": 4,
 "nbformat_minor": 5
}
