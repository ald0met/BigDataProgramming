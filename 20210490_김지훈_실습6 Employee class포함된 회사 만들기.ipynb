{
 "cells": [
  {
   "cell_type": "code",
   "execution_count": 10,
   "id": "03a81cb2-d815-49b4-8dd0-fd8a622605da",
   "metadata": {},
   "outputs": [
    {
     "name": "stdout",
     "output_type": "stream",
     "text": [
      "Start time: 2024-11-07 13:08:20\n",
      "Name:Alice, Age:35, Employee ID:M001, Department:Sales\n",
      "Name:Bob, Age:28, Employee ID:S001, Role:Developer\n",
      "Name:Charlie, Age:22, Employee ID:H001, Hourly Rate:$15.5\n",
      "End time: 2024-11-07 13:08:20\n",
      "Execution time: 0.00 seconds\n"
     ]
    }
   ],
   "source": [
    "import time\n",
    "from datetime import datetime\n",
    "\n",
    "def checktime(func):\n",
    "    def wrapper(*args, **kwargs):\n",
    "        start_time = time.time()\n",
    "        print(f\"Start time: {datetime.now().strftime('%Y-%m-%d %H:%M:%S')}\")\n",
    "        result = func(*args, **kwargs)\n",
    "        end_time = time.time()\n",
    "        print(f\"End time: {datetime.now().strftime('%Y-%m-%d %H:%M:%S')}\")\n",
    "        print(f\"Execution time: {end_time - start_time:.2f} seconds\")\n",
    "        return result\n",
    "    return wrapper\n",
    "\n",
    "class Person:\n",
    "    def __init__(self, name, age):\n",
    "        self.name = name\n",
    "        self.age = age\n",
    "\n",
    "    def __str__(self):\n",
    "        return f\"Name:{self.name}, Age:{self.age}\"\n",
    "\n",
    "class Employee(Person):\n",
    "    def __init__(self, name, age, employee_id):\n",
    "        super().__init__(name, age)\n",
    "        self.employee_id = employee_id\n",
    "\n",
    "    @property\n",
    "    def info(self):\n",
    "        return f\"{super().__str__()}, Employee ID:{self.employee_id}\"\n",
    "\n",
    "class Manager(Employee):\n",
    "    def __init__(self, name, age, employee_id, department):\n",
    "        super().__init__(name, age, employee_id)\n",
    "        self.department = department\n",
    "\n",
    "    @property\n",
    "    def info(self):\n",
    "        return f\"{super().info}, Department:{self.department}\"\n",
    "\n",
    "class Staff(Employee):\n",
    "    def __init__(self, name, age, employee_id, role):\n",
    "        super().__init__(name, age, employee_id)\n",
    "        self.role = role\n",
    "\n",
    "    @property\n",
    "    def info(self):\n",
    "        return f\"{super().info}, Role:{self.role}\"\n",
    "\n",
    "class Hourly(Employee):\n",
    "    def __init__(self, name, age, employee_id, hourly_rate):\n",
    "        super().__init__(name, age, employee_id)\n",
    "        self.hourly_rate = hourly_rate\n",
    "\n",
    "    @property\n",
    "    def info(self):\n",
    "        return f\"{super().info}, Hourly Rate:${self.hourly_rate:.1f}\"\n",
    "\n",
    "@checktime\n",
    "def main():\n",
    "    manager = Manager(\"Alice\", 35, \"M001\", \"Sales\")\n",
    "    staff = Staff(\"Bob\", 28, \"S001\", \"Developer\")\n",
    "    hourly = Hourly(\"Charlie\", 22, \"H001\", 15.50)\n",
    "\n",
    "    print(manager.info)\n",
    "    print(staff.info)\n",
    "    print(hourly.info)\n",
    "\n",
    "if __name__ == \"__main__\":\n",
    "    main()"
   ]
  }
 ],
 "metadata": {
  "kernelspec": {
   "display_name": "Python 3 (ipykernel)",
   "language": "python",
   "name": "python3"
  },
  "language_info": {
   "codemirror_mode": {
    "name": "ipython",
    "version": 3
   },
   "file_extension": ".py",
   "mimetype": "text/x-python",
   "name": "python",
   "nbconvert_exporter": "python",
   "pygments_lexer": "ipython3",
   "version": "3.11.7"
  }
 },
 "nbformat": 4,
 "nbformat_minor": 5
}
