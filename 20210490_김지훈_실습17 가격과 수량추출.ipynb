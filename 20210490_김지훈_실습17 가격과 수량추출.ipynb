{
 "cells": [
  {
   "cell_type": "code",
   "execution_count": 1,
   "id": "cee35fce-2e56-4209-819c-fb67ebea6c05",
   "metadata": {},
   "outputs": [
    {
     "name": "stdout",
     "output_type": "stream",
     "text": [
      "23.45\n",
      "5.01\n",
      "889.00\n",
      "69.89\n"
     ]
    }
   ],
   "source": [
    "import re\n",
    "\n",
    "data = \"\"\"\n",
    "ABC01: $23.45\n",
    "HGG42: $5.01\n",
    "CFXE1: $889.00\n",
    "XTC99: $69.89\n",
    "Total items found: 4\n",
    "\"\"\"\n",
    "\n",
    "def extract_prices(data):\n",
    "    prices = re.findall(r'\\$\\d+\\.\\d{2}', data)\n",
    "    return [price[1:] for price in prices]\n",
    "\n",
    "prices = extract_prices(data)\n",
    "for price in prices:\n",
    "    print(price)"
   ]
  },
  {
   "cell_type": "code",
   "execution_count": 2,
   "id": "0f9bfc0e-95bf-42b8-9fb8-c31672b025c9",
   "metadata": {},
   "outputs": [
    {
     "name": "stdout",
     "output_type": "stream",
     "text": [
      "가격을 나타내는 숫자들\n",
      "30\n",
      "5\n",
      "수량을 나타내는 숫자들\n",
      "100\n",
      "50\n",
      "60\n"
     ]
    }
   ],
   "source": [
    "data = \"\"\"\n",
    "I paid $30 for 100 apples,\n",
    "50 oranges, and 60 pears.\n",
    "I saved $5 on this order.\n",
    "\"\"\"\n",
    "\n",
    "def extract_numbers(data):\n",
    "    prices = re.findall(r'\\$\\d+', data)\n",
    "    quantities = re.findall(r'\\b\\d+\\b', data)\n",
    "    prices = [price[1:] for price in prices]\n",
    "    quantities =[quantity for quantity in quantities if quantity not in prices]\n",
    "    return prices, quantities\n",
    "\n",
    "prices, quantities = extract_numbers(data)\n",
    "print(\"가격을 나타내는 숫자들\")\n",
    "for price in prices:\n",
    "    print(price)\n",
    "\n",
    "print(\"수량을 나타내는 숫자들\")\n",
    "for quantity in quantities:\n",
    "    print(quantity)"
   ]
  }
 ],
 "metadata": {
  "kernelspec": {
   "display_name": "Python 3 (ipykernel)",
   "language": "python",
   "name": "python3"
  },
  "language_info": {
   "codemirror_mode": {
    "name": "ipython",
    "version": 3
   },
   "file_extension": ".py",
   "mimetype": "text/x-python",
   "name": "python",
   "nbconvert_exporter": "python",
   "pygments_lexer": "ipython3",
   "version": "3.11.7"
  }
 },
 "nbformat": 4,
 "nbformat_minor": 5
}
