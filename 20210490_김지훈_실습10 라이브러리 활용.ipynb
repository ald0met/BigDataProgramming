{
 "cells": [
  {
   "cell_type": "code",
   "execution_count": 1,
   "id": "06c7215b-1d1a-4e30-9786-12ade0d0eed2",
   "metadata": {},
   "outputs": [
    {
     "data": {
      "text/plain": [
       "'posix'"
      ]
     },
     "execution_count": 1,
     "metadata": {},
     "output_type": "execute_result"
    }
   ],
   "source": [
    "import os\n",
    "os.name"
   ]
  },
  {
   "cell_type": "code",
   "execution_count": 2,
   "id": "78bca156-af4f-4949-b2cd-aeb95a7ea53a",
   "metadata": {},
   "outputs": [
    {
     "name": "stdout",
     "output_type": "stream",
     "text": [
      "Overwriting leapArg.py\n"
     ]
    }
   ],
   "source": [
    "%%writefile leapArg.py\n",
    "import sys\n",
    "\n",
    "def is_leap(year):\n",
    "    if year%4==0 and year%100!=0 or year%400==0:\n",
    "        return True\n",
    "    else:\n",
    "        return False\n",
    "\n",
    "def get_day_name(year,month,day):\n",
    "    day_name=[\"일요일\",\"월요일\",\"화요일\",\"수요일\",\"목요일\",\"금요일\",\"토요일\"]\n",
    "    month_date={1:31,2:28,3:31,4:30,5:31,6:30,7:31,8:31,9:30,10:31,11:30,12:31}\n",
    "    if is_leap(year)==True:\n",
    "        month_date[2]=29\n",
    "    else:\n",
    "        if (month,day)==(2,29):\n",
    "            return False\n",
    "    count=365*(year-1)+sum(1 for i in range(1,year) if is_leap(i)==True)\n",
    "    count+=sum(month_date[i] for i in range(1,month))\n",
    "    count+=day\n",
    "    return day_name[count%7]\n",
    "if __name__==\"__main__\":\n",
    "    year=int(sys.argv[1])\n",
    "    month=int(sys.argv[2])\n",
    "    day=int(sys.argv[3])\n",
    "    day_name=get_day_name(year,month,day)\n",
    "    if day_name==False:\n",
    "        print(\"입력하신 날짜는 존재하지 않습니다.\")\n",
    "    else:\n",
    "        print(day_name)"
   ]
  },
  {
   "cell_type": "code",
   "execution_count": 3,
   "id": "f1bf298b-0ee3-424f-af32-6ce3aa62607f",
   "metadata": {},
   "outputs": [
    {
     "name": "stdout",
     "output_type": "stream",
     "text": [
      "목요일\n"
     ]
    }
   ],
   "source": [
    "%run leapArg.py 2024 11 14"
   ]
  },
  {
   "cell_type": "code",
   "execution_count": 4,
   "id": "bf5e2059-c1f3-4e30-bf13-c04e03018ad7",
   "metadata": {},
   "outputs": [
    {
     "name": "stdout",
     "output_type": "stream",
     "text": [
      "-1.6351885780427125e-13\n",
      "2.939601270583009e+48\n",
      "1.0\n"
     ]
    }
   ],
   "source": [
    "import math\n",
    "a=2000/math.log(20)*math.sin(2*math.pi)\n",
    "b=math.pow(3,100)*math.log(300)\n",
    "c=math.sin(math.radians(45))*math.sqrt(2)\n",
    "print(a)\n",
    "print(b)\n",
    "print(c)"
   ]
  },
  {
   "cell_type": "code",
   "execution_count": 5,
   "id": "07e9d3a3-e2cc-4c79-9fb7-74772afc43d3",
   "metadata": {},
   "outputs": [
    {
     "name": "stdin",
     "output_type": "stream",
     "text": [
      "가위, 바위, 보 중 하나를 선택하시오:  가위\n"
     ]
    },
    {
     "name": "stdout",
     "output_type": "stream",
     "text": [
      "플레이어: 가위\n",
      "컴퓨터: 보\n",
      "당신이 이겼습니다.\n"
     ]
    }
   ],
   "source": [
    "import random\n",
    "k=input(\"가위, 바위, 보 중 하나를 선택하시오: \")\n",
    "choices=[\"가위\",\"바위\",\"보\"]\n",
    "c=choices[random.randint(0,2)]\n",
    "print(\"플레이어:\",k)\n",
    "print(\"컴퓨터:\",c)\n",
    "if k==c:\n",
    "    print(\"비겼습니다.\")\n",
    "elif k==\"가위\":\n",
    "    if c==\"바위\":\n",
    "        print(\"컴퓨터가 이겼습니다.\")\n",
    "    elif c==\"보\":\n",
    "        print(\"당신이 이겼습니다.\")\n",
    "elif k==\"보\":\n",
    "    if c==\"가위\":\n",
    "        print(\"컴퓨터가 이겼습니다.\")\n",
    "    elif c==\"바위\":\n",
    "        print(\"당신이 이겼습니다.\")\n",
    "elif k==\"바위\":\n",
    "    if c==\"보\":\n",
    "        print(\"컴퓨터가 이겼습니다.\")\n",
    "    elif c==\"가위\":\n",
    "        print(\"당신이 이겼습니다.\")"
   ]
  }
 ],
 "metadata": {
  "kernelspec": {
   "display_name": "Python 3 (ipykernel)",
   "language": "python",
   "name": "python3"
  },
  "language_info": {
   "codemirror_mode": {
    "name": "ipython",
    "version": 3
   },
   "file_extension": ".py",
   "mimetype": "text/x-python",
   "name": "python",
   "nbconvert_exporter": "python",
   "pygments_lexer": "ipython3",
   "version": "3.11.7"
  }
 },
 "nbformat": 4,
 "nbformat_minor": 5
}
