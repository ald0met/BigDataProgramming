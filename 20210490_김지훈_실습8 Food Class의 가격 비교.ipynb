{
 "cells": [
  {
   "cell_type": "code",
   "execution_count": 1,
   "id": "72f7b91b-f4de-4413-8492-c69706d62fda",
   "metadata": {},
   "outputs": [
    {
     "name": "stdout",
     "output_type": "stream",
     "text": [
      "True\n",
      "8000\n"
     ]
    }
   ],
   "source": [
    "class Food(object):\n",
    "    def __init__(self,name,price):\n",
    "        self.name=name\n",
    "        self.price=price\n",
    "\n",
    "    def __lt__(self,other):\n",
    "        return self.price<other.price\n",
    "\n",
    "    def __add__(self,other):\n",
    "        return self.price+other.price\n",
    "\n",
    "food_1=Food(\"아이스크림\",3000)\n",
    "food_2=Food(\"햄버거\",5000)\n",
    "\n",
    "\n",
    "print(food_1<food_2)\n",
    "print(food_1+food_2)"
   ]
  }
 ],
 "metadata": {
  "kernelspec": {
   "display_name": "Python 3 (ipykernel)",
   "language": "python",
   "name": "python3"
  },
  "language_info": {
   "codemirror_mode": {
    "name": "ipython",
    "version": 3
   },
   "file_extension": ".py",
   "mimetype": "text/x-python",
   "name": "python",
   "nbconvert_exporter": "python",
   "pygments_lexer": "ipython3",
   "version": "3.11.7"
  }
 },
 "nbformat": 4,
 "nbformat_minor": 5
}
