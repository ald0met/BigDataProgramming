{
 "cells": [
  {
   "cell_type": "code",
   "execution_count": 3,
   "id": "abe38097-a578-4597-8e05-4de8854f8d3f",
   "metadata": {},
   "outputs": [
    {
     "name": "stdout",
     "output_type": "stream",
     "text": [
      "date: 2022, 4, 7\n",
      "date: today\n",
      "date: 2024, 2, 29\n"
     ]
    }
   ],
   "source": [
    "class Date:\n",
    "    def __init__(self, date_str):\n",
    "        if date_str == \"today\":\n",
    "            self.year = \"today\"\n",
    "            self.month = None\n",
    "            self.day = None\n",
    "        else:\n",
    "            year, month, day = map(int, date_str.split(\", \"))\n",
    "            self.year = year\n",
    "            self.month = month\n",
    "            self.day = day\n",
    "\n",
    "    def show(self):\n",
    "        if self.year == \"today\":\n",
    "            print(\"date: today\")\n",
    "        else:\n",
    "            print(f\"date: {self.year}, {self.month}, {self.day}\")\n",
    "\n",
    "    @staticmethod\n",
    "    def now():\n",
    "        return Date(\"today\")\n",
    "\n",
    "    @staticmethod\n",
    "    def yesterday(date_str):\n",
    "        year, month, day = map(int, date_str.split(\", \"))\n",
    "        day -= 1\n",
    "        if day < 1:\n",
    "            month -= 1\n",
    "            if month < 1:\n",
    "                month = 12\n",
    "                year -= 1\n",
    "            day = Date.days_in_month(year, month)\n",
    "        return Date(f\"{year}, {month}, {day}\")\n",
    "\n",
    "    @staticmethod\n",
    "    def days_in_month(year, month):\n",
    "        days = [31, 28, 31, 30, 31, 30, 31, 31, 30, 31, 30, 31]\n",
    "        if month == 2 and Date.is_leap_year(year) is True:\n",
    "            days[1]=29\n",
    "        return days[month - 1]\n",
    "\n",
    "    @staticmethod\n",
    "    def is_leap_year(year):\n",
    "        return year % 4 == 0 and (year % 100 != 0 or year % 400 == 0)\n",
    "\n",
    "a = Date(\"2022, 4, 7\")\n",
    "a.show()\n",
    "\n",
    "b = Date.now()\n",
    "b.show()\n",
    "\n",
    "c = Date.yesterday(\"2024, 3, 1\")\n",
    "c.show()"
   ]
  }
 ],
 "metadata": {
  "kernelspec": {
   "display_name": "Python 3 (ipykernel)",
   "language": "python",
   "name": "python3"
  },
  "language_info": {
   "codemirror_mode": {
    "name": "ipython",
    "version": 3
   },
   "file_extension": ".py",
   "mimetype": "text/x-python",
   "name": "python",
   "nbconvert_exporter": "python",
   "pygments_lexer": "ipython3",
   "version": "3.11.7"
  }
 },
 "nbformat": 4,
 "nbformat_minor": 5
}
