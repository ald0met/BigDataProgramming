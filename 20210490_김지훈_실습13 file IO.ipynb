{
 "cells": [
  {
   "cell_type": "code",
   "execution_count": 1,
   "id": "664d7ef1-d31e-4213-b158-d41f430c661f",
   "metadata": {},
   "outputs": [],
   "source": [
    "f=open(\"ban_stu.txt\",\"wt\",encoding=\"utf-8\")\n",
    "f.write(\"2 Alice Paul David Bob\\n\")\n",
    "f.write(\"4 Cindy Stella Bill\\n\")\n",
    "f.write(\"1 Henry Jenny Jessica Erin Tim\\n\")\n",
    "f.write(\"3 John Joe Tom\")\n",
    "f.close()"
   ]
  },
  {
   "cell_type": "code",
   "execution_count": 7,
   "id": "ca8034a6-365a-461d-91c2-27fcf8c7a5e5",
   "metadata": {},
   "outputs": [
    {
     "name": "stdout",
     "output_type": "stream",
     "text": [
      "{'2': ['Alice', 'Paul', 'David', 'Bob'], '4': ['Cindy', 'Stella', 'Bill'], '1': ['Henry', 'Jenny', 'Jessica', 'Erin', 'Tim'], '3': ['John', 'Joe', 'Tom']}\n"
     ]
    }
   ],
   "source": [
    "f=open(\"ban_stu.txt\",\"rt\",encoding=\"utf-8\")\n",
    "d={}\n",
    "for line in f:\n",
    "    n=line.split()\n",
    "    key=n[0]\n",
    "    names=n[1:]\n",
    "    d[key]=names\n",
    "print(d)"
   ]
  }
 ],
 "metadata": {
  "kernelspec": {
   "display_name": "Python 3 (ipykernel)",
   "language": "python",
   "name": "python3"
  },
  "language_info": {
   "codemirror_mode": {
    "name": "ipython",
    "version": 3
   },
   "file_extension": ".py",
   "mimetype": "text/x-python",
   "name": "python",
   "nbconvert_exporter": "python",
   "pygments_lexer": "ipython3",
   "version": "3.11.7"
  }
 },
 "nbformat": 4,
 "nbformat_minor": 5
}
