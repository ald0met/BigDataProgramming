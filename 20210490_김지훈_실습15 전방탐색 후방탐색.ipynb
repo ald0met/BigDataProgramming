{
 "cells": [
  {
   "cell_type": "code",
   "execution_count": 1,
   "id": "692c7ef0-a6ff-4c1e-904b-db566a2723a8",
   "metadata": {},
   "outputs": [
    {
     "name": "stdout",
     "output_type": "stream",
     "text": [
      "Seo Maria's Homepage\n"
     ]
    }
   ],
   "source": [
    "import re\n",
    "\n",
    "data = '''\n",
    "<HEAD>\n",
    "<TITLE>Seo Maria's Homepage</TITLE>\n",
    "</HEAD>\n",
    "'''\n",
    "\n",
    "p = re.search('(?<=\\<[Tt][Ii][Tt][Ll][Ee]\\>).*(?=\\<\\/[Tt][Ii][Tt][Ll][Ee]\\>)', data)\n",
    "\n",
    "print(p.group())"
   ]
  },
  {
   "cell_type": "code",
   "execution_count": 2,
   "id": "429e53ce-c28e-4e8a-b855-71e0c2264872",
   "metadata": {},
   "outputs": [
    {
     "name": "stdout",
     "output_type": "stream",
     "text": [
      "Seo Maria's Homepage\n"
     ]
    }
   ],
   "source": [
    "k = re.search('(?<=\\<TITLE\\>).*(?=\\</TITLE\\>)', data, re.I)\n",
    "\n",
    "print(k.group())"
   ]
  },
  {
   "cell_type": "code",
   "execution_count": 3,
   "id": "9b4525ce-a4a9-4acc-8e41-b02cf9a779a8",
   "metadata": {},
   "outputs": [
    {
     "name": "stdout",
     "output_type": "stream",
     "text": [
      "foo.bar, sendmail.cf, checksum.exe\n",
      "foo.bar, sendmail.cf\n"
     ]
    }
   ],
   "source": [
    "import re\n",
    "\n",
    "files_string = \"foo.bar, autoexec.bat, sendmail.cf, checksum.exe\"\n",
    "files = [file.strip() for file in files_string.split(',')]\n",
    "\n",
    "filtered_files_bat = [file for file in files if not re.search(r'\\.bat$', file)]\n",
    "print(\", \".join(filtered_files_bat))\n",
    "\n",
    "filtered_files_bat_exe = [file for file in files if not re.search(r'\\.(bat|exe)$', file)]\n",
    "print(\", \".join(filtered_files_bat_exe))"
   ]
  }
 ],
 "metadata": {
  "kernelspec": {
   "display_name": "Python 3 (ipykernel)",
   "language": "python",
   "name": "python3"
  },
  "language_info": {
   "codemirror_mode": {
    "name": "ipython",
    "version": 3
   },
   "file_extension": ".py",
   "mimetype": "text/x-python",
   "name": "python",
   "nbconvert_exporter": "python",
   "pygments_lexer": "ipython3",
   "version": "3.11.7"
  }
 },
 "nbformat": 4,
 "nbformat_minor": 5
}
